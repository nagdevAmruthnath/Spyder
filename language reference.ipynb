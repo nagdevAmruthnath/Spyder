{
 "cells": [
  {
   "cell_type": "markdown",
   "metadata": {},
   "source": [
    "Metaclass's standard syntax is as follow (`abc.ABCMeta` is implemented like this),\n",
    "\n",
    "if you use `type.new(name, bases, attrs)`, then `__init__()` won't be called after\n",
    "\n",
    "refer to https://stackoverflow.com/questions/2608708/#answer-37626457"
   ]
  },
  {
   "cell_type": "code",
   "execution_count": null,
   "metadata": {},
   "outputs": [],
   "source": [
    "# metaclass\n",
    "class FooMetaclass(type):\n",
    "    def __init__(self, name, bases, attrs): \n",
    "        pass\n",
    "\n",
    "    def __new__(cls, name, bases, attrs):\n",
    "        return type.__new__(cls, name, bases, attrs)"
   ]
  }
 ],
 "metadata": {
  "kernelspec": {
   "display_name": "Python 3",
   "language": "python",
   "name": "python3"
  },
  "language_info": {
   "codemirror_mode": {
    "name": "ipython",
    "version": 3
   },
   "file_extension": ".py",
   "mimetype": "text/x-python",
   "name": "python",
   "nbconvert_exporter": "python",
   "pygments_lexer": "ipython3",
   "version": "3.7.3"
  }
 },
 "nbformat": 4,
 "nbformat_minor": 2
}
