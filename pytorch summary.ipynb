{
 "cells": [
  {
   "cell_type": "code",
   "execution_count": 1,
   "metadata": {},
   "outputs": [],
   "source": [
    "import torch\n",
    "import numpy as np"
   ]
  },
  {
   "cell_type": "code",
   "execution_count": 2,
   "metadata": {},
   "outputs": [
    {
     "name": "stdout",
     "output_type": "stream",
     "text": [
      "tensor([[-0.4386, -0.7335, -1.1962],\n",
      "        [ 0.1330,  0.9955, -0.2481],\n",
      "        [ 0.6959, -0.7961, -0.3098]], requires_grad=True)\n",
      "tensor([[-0.4386, -0.7335, -1.1962],\n",
      "        [ 0.1330,  0.9955, -0.2481],\n",
      "        [ 0.6959, -0.7961, -0.3098]])\n",
      "None\n",
      "None\n"
     ]
    }
   ],
   "source": [
    "x = torch.randn(3, 3 , requires_grad = True)\n",
    "print(x)\n",
    "print(x.data)\n",
    "print(x.grad)\n",
    "print(x.grad_fn)"
   ]
  },
  {
   "cell_type": "code",
   "execution_count": null,
   "metadata": {},
   "outputs": [],
   "source": [
    "# device\n",
    "\n",
    "print(  torch.randn(3, device = \"cpu\").cuda()     )\n",
    "print(  torch.randn(3, device = \"cuda\").cpu()     )\n",
    "\n",
    "print(  torch.randn(3).to(torch.device(\"cuda\"))   )\n",
    "print(  torch.randn(3, device = \"cuda\").to(\"cpu\") )"
   ]
  },
  {
   "cell_type": "code",
   "execution_count": 10,
   "metadata": {},
   "outputs": [],
   "source": [
    "# torch.tensor(data, dtype=None, device=None, requires_grad=False, pin_memory=False) -> Tensor\n",
    "x = np.array([1.1, 2.2, 3.3])\n",
    "print(x)\n",
    "print(torch.from_numpy(x))\n",
    "print(torch.from_numpy(x).type(torch.DoubleTensor))\n",
    "print(torch.from_numpy(x).type(torch.DoubleTensor).view(3, 1))"
   ]
  },
  {
   "cell_type": "code",
   "execution_count": 15,
   "metadata": {},
   "outputs": [
    {
     "name": "stdout",
     "output_type": "stream",
     "text": [
      "Linear(in_features=5, out_features=3, bias=True) \n",
      "\n",
      "Parameter containing:\n",
      "tensor([[ 0.3802,  0.2179, -0.1130,  0.3050, -0.3253],\n",
      "        [-0.2766, -0.1968,  0.3709,  0.2948, -0.2054],\n",
      "        [-0.4037,  0.3592,  0.3534, -0.3526, -0.1566]], requires_grad=True) \n",
      "\n",
      "Parameter containing:\n",
      "tensor([ 0.1439, -0.2230, -0.0157], requires_grad=True) \n",
      "\n",
      "True \n",
      "\n"
     ]
    }
   ],
   "source": [
    "layer = torch.nn.Linear(in_features=5, out_features=3, bias=True)\n",
    "print(layer, '\\n')\n",
    "print(layer.weight, '\\n')\n",
    "print(layer.bias, '\\n')\n",
    "print(layer.training, '\\n')"
   ]
  },
  {
   "cell_type": "code",
   "execution_count": null,
   "metadata": {},
   "outputs": [],
   "source": []
  }
 ],
 "metadata": {
  "kernelspec": {
   "display_name": "Python 3",
   "language": "python",
   "name": "python3"
  },
  "language_info": {
   "codemirror_mode": {
    "name": "ipython",
    "version": 3
   },
   "file_extension": ".py",
   "mimetype": "text/x-python",
   "name": "python",
   "nbconvert_exporter": "python",
   "pygments_lexer": "ipython3",
   "version": "3.7.3"
  }
 },
 "nbformat": 4,
 "nbformat_minor": 2
}
