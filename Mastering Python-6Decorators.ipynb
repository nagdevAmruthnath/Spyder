{
 "cells": [
  {
   "cell_type": "markdown",
   "metadata": {},
   "source": [
    "# Decorating functions\n"
   ]
  },
  {
   "cell_type": "markdown",
   "metadata": {},
   "source": [
    "## Creating decorators using classes"
   ]
  },
  {
   "cell_type": "code",
   "execution_count": 1,
   "metadata": {},
   "outputs": [],
   "source": [
    "import functools\n",
    "\n",
    "class Debug(object):\n",
    "\n",
    "    def __init__(self, function):\n",
    "        self.function = function\n",
    "        # functools.wraps for classes\n",
    "        functools.update_wrapper(self, function)\n",
    "\n",
    "    def __call__(self, *args, **kwargs):\n",
    "        output = self.function(*args, **kwargs)\n",
    "        print('%s(%r, %r): %r' % (\n",
    "            self.function.__name__, args, kwargs, output))\n",
    "        return output\n",
    "\n",
    "@Debug\n",
    "def spam(eggs):\n",
    "    return 'spam' * (eggs % 5)\n",
    "\n",
    "output = spam(3)"
   ]
  },
  {
   "cell_type": "markdown",
   "metadata": {},
   "source": [
    "# Decorating class functions"
   ]
  },
  {
   "cell_type": "code",
   "execution_count": 2,
   "metadata": {},
   "outputs": [],
   "source": [
    "import functools\n",
    "\n",
    "def plus_one(function):\n",
    "    @functools.wraps(function)\n",
    "    def _plus_one(self, n):\n",
    "        return function(self, n + 1)\n",
    "    return _plus_one\n",
    "\n",
    "\n",
    "class Spam(object):\n",
    "    @plus_one\n",
    "    def get_eggs(self, n=2):\n",
    "        return n * 'eggs'\n",
    "\n",
    "spam = Spam()\n",
    "spam.get_eggs(3)"
   ]
  },
  {
   "cell_type": "markdown",
   "metadata": {},
   "source": [
    "## Skipping the instance – classmethod and staticmethod"
   ]
  },
  {
   "cell_type": "code",
   "execution_count": 3,
   "metadata": {},
   "outputs": [
    {
     "name": "stdout",
     "output_type": "stream",
     "text": [
      "self: <__main__.Spam object at 0x7f2c49b5db00>\n",
      "args: (1, 2)\n",
      "kwargs: {'a': 3, 'b': 4}\n",
      "self: 1\n",
      "args: (2,)\n",
      "kwargs: {'a': 3, 'b': 4}\n",
      "cls: <class '__main__.Spam'>\n",
      "args: (1, 2)\n",
      "kwargs: {'a': 3, 'b': 4}\n",
      "cls: <class '__main__.Spam'>\n",
      "args: ()\n",
      "kwargs: {}\n",
      "cls: <class '__main__.Spam'>\n",
      "args: (1, 2)\n",
      "kwargs: {'a': 3, 'b': 4}\n",
      "args: (1, 2)\n",
      "kwargs: {'a': 3, 'b': 4}\n",
      "args: ()\n",
      "kwargs: {}\n",
      "args: (1, 2)\n",
      "kwargs: {'a': 3, 'b': 4}\n"
     ]
    }
   ],
   "source": [
    "import pprint\n",
    "\n",
    "class Spam(object):\n",
    "\n",
    "    def some_instancemethod(self, *args, **kwargs):\n",
    "        print('self: %r' % self)\n",
    "        print('args: %s' % pprint.pformat(args))\n",
    "        print('kwargs: %s' % pprint.pformat(kwargs))\n",
    "\n",
    "    @classmethod\n",
    "    def some_classmethod(cls, *args, **kwargs):\n",
    "        print('cls: %r' % cls)\n",
    "        print('args: %s' % pprint.pformat(args))\n",
    "        print('kwargs: %s' % pprint.pformat(kwargs))\n",
    "\n",
    "    @staticmethod\n",
    "    def some_staticmethod(*args, **kwargs):\n",
    "        print('args: %s' % pprint.pformat(args))\n",
    "        print('kwargs: %s' % pprint.pformat(kwargs))\n",
    "\n",
    "# Create an instance so we can compare the difference between\n",
    "# executions with and without instances easily\n",
    "spam = Spam()\n",
    "\n",
    "# With an instance (note the lowercase spam)\n",
    "spam.some_instancemethod(1, 2, a=3, b=4)\n",
    "\n",
    "# But what if we add parameters? Be very careful with these!\n",
    "# Our first argument is now used as an argument, this can give\n",
    "# very strange and unexpected errors\n",
    "Spam.some_instancemethod(1, 2, a=3, b=4)\n",
    "\n",
    "# Classmethods are expectedly identical\n",
    "spam.some_classmethod(1, 2, a=3, b=4)\n",
    "\n",
    "Spam.some_classmethod()\n",
    "\n",
    "Spam.some_classmethod(1, 2, a=3, b=4)\n",
    "\n",
    "\n",
    "# Staticmethods are also identical\n",
    "spam.some_staticmethod(1, 2, a=3, b=4)\n",
    "\n",
    "Spam.some_staticmethod()\n",
    "\n",
    "Spam.some_staticmethod(1, 2, a=3, b=4)"
   ]
  },
  {
   "cell_type": "markdown",
   "metadata": {},
   "source": [
    "## Properties – smart descriptor usage"
   ]
  },
  {
   "cell_type": "code",
   "execution_count": null,
   "metadata": {},
   "outputs": [],
   "source": []
  }
 ],
 "metadata": {
  "kernelspec": {
   "display_name": "Python 3 (Spyder)",
   "language": "python3",
   "name": "python3"
  },
  "language_info": {
   "codemirror_mode": {
    "name": "ipython",
    "version": 3
   },
   "file_extension": ".py",
   "mimetype": "text/x-python",
   "name": "python",
   "nbconvert_exporter": "python",
   "pygments_lexer": "ipython3",
   "version": "3.7.3"
  }
 },
 "nbformat": 4,
 "nbformat_minor": 2
}
