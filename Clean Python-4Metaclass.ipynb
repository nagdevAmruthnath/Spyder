{
 "cells": [
  {
   "cell_type": "markdown",
   "metadata": {},
   "source": [
    "## __call__ is metaclass\n",
    "\n",
    "Listing 4-13 on P142 is really a pathlogical example.\n",
    "\n",
    "`class Foo(metaclass = FooMeta):` just means `Foo = FooMeta2(\"Foo\", bases, dict)`, nobody guarantees `Foo` would be a class.\n",
    "\n",
    "Normally, `FooMeta2()` has `__new__()`, which eventually delegate to `type(\"Foo\", bases2, dict2)`, thus everything works well.\n",
    "\n",
    "However, the default `__new__()` is quite plain, you just get an instance, not a class."
   ]
  },
  {
   "cell_type": "code",
   "execution_count": 7,
   "metadata": {},
   "outputs": [
    {
     "name": "stdout",
     "output_type": "stream",
     "text": [
      "metaclass __new__\n",
      "<class 'type'>\n",
      "Foo __new__ ()\n"
     ]
    }
   ],
   "source": [
    "class FooMeta(type):\n",
    "    def __new__(meta, name, bases, dct):\n",
    "        print(\"metaclass __new__\")\n",
    "        return type(name, bases, dct)\n",
    "\n",
    "\n",
    "class Foo(metaclass = FooMeta): \n",
    "    def __new__(cls, *args):\n",
    "        print(\"Foo __new__\", args)\n",
    "\n",
    "print(type(Foo))\n",
    "Foo()"
   ]
  },
  {
   "cell_type": "code",
   "execution_count": 2,
   "metadata": {},
   "outputs": [
    {
     "name": "stdout",
     "output_type": "stream",
     "text": [
      "metaclass __new__\n",
      "<class 'type'>\n",
      "Foo __new__ ()\n"
     ]
    }
   ],
   "source": [
    "# __call()__ has no effect when __new__() exists\n",
    "class FooMeta1(type):\n",
    "    def __new__(meta, name, bases, dct):\n",
    "        print(\"metaclass __new__\")\n",
    "        return type(name, bases, dct)\n",
    "\n",
    "    def __call__(self, *args, **kwargs):\n",
    "        print(\"meta __call__\")\n",
    "\n",
    "class Foo1(metaclass = FooMeta): \n",
    "    def __new__(cls, *args):\n",
    "        print(\"Foo __new__\", args)\n",
    "\n",
    "print(type(Foo1))\n",
    "Foo1()"
   ]
  },
  {
   "cell_type": "code",
   "execution_count": 3,
   "metadata": {},
   "outputs": [
    {
     "name": "stdout",
     "output_type": "stream",
     "text": [
      "<class '__main__.FooMeta2'>\n"
     ]
    }
   ],
   "source": [
    "# when __new__() disappears, FooMeta2(name, bases, dct) doesn't returns a class, rather a instance\n",
    "class FooMeta2(type): pass\n",
    "\n",
    "class Foo2(metaclass = FooMeta2): pass\n",
    "\n",
    "print(type(Foo2))"
   ]
  },
  {
   "cell_type": "code",
   "execution_count": 4,
   "metadata": {},
   "outputs": [
    {
     "name": "stdout",
     "output_type": "stream",
     "text": [
      "<class '__main__.FooMeta3'>\n",
      "meta __call__\n"
     ]
    }
   ],
   "source": [
    "# you can pretend Foo* to be a class, by makeing it callable, \n",
    "#      but estentially you just preforms method calling, not object initialization\n",
    "class FooMeta3(type):\n",
    "    def __call__(self, *args, **kwargs):\n",
    "        print(\"meta __call__\")\n",
    "\n",
    "class Foo3(metaclass = FooMeta3): pass\n",
    "\n",
    "print(type(Foo3))\n",
    "Foo3()"
   ]
  },
  {
   "cell_type": "code",
   "execution_count": 5,
   "metadata": {},
   "outputs": [
    {
     "name": "stdout",
     "output_type": "stream",
     "text": [
      "<class '__main__.FooMeta3'>\n",
      "meta __call__\n"
     ]
    }
   ],
   "source": [
    "# you can confrim `Foo*()` doesn't initialize an instance since __new()__ doesn't work\n",
    "class Bar3(metaclass = FooMeta3): \n",
    "    def __new__(cls, *args):\n",
    "        print(\"Foo __new__\", args)\n",
    "\n",
    "\n",
    "print(type(Bar3))\n",
    "Bar3()"
   ]
  },
  {
   "cell_type": "code",
   "execution_count": 6,
   "metadata": {},
   "outputs": [
    {
     "name": "stdout",
     "output_type": "stream",
     "text": [
      "metaclass __new__\n",
      "<class 'type'>\n"
     ]
    }
   ],
   "source": [
    "# everything restores as __new__() comes back\n",
    "class FooMeta4(type):\n",
    "    def __new__(meta, name, bases, dct):\n",
    "        print(\"metaclass __new__\")\n",
    "        return type(name, bases, dct)\n",
    "\n",
    "    def __call__(self, *args, **kwargs):\n",
    "        print(\"meta __call__\")\n",
    "\n",
    "class Foo4(metaclass = FooMeta4): pass\n",
    "\n",
    "print(type(Foo4))\n",
    "Foo4();"
   ]
  },
  {
   "cell_type": "code",
   "execution_count": null,
   "metadata": {},
   "outputs": [],
   "source": []
  }
 ],
 "metadata": {
  "kernelspec": {
   "display_name": "Python 3",
   "language": "python",
   "name": "python3"
  },
  "language_info": {
   "codemirror_mode": {
    "name": "ipython",
    "version": 3
   },
   "file_extension": ".py",
   "mimetype": "text/x-python",
   "name": "python",
   "nbconvert_exporter": "python",
   "pygments_lexer": "ipython3",
   "version": "3.7.3"
  }
 },
 "nbformat": 4,
 "nbformat_minor": 2
}
